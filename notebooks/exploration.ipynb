{
 "cells": [
  {
   "cell_type": "code",
   "execution_count": null,
   "metadata": {},
   "outputs": [],
   "source": [
    "import pandas as pd \n",
    "import patplotlib.pylot as plt\n",
    "\n",
    "\n",
    "#cargar los datos limpios\n",
    "\n",
    "data_path = \"data/raw/products.csv\"\n",
    "df = pd.read\n"
   ]
  }
 ],
 "metadata": {
  "language_info": {
   "name": "python"
  }
 },
 "nbformat": 4,
 "nbformat_minor": 2
}
